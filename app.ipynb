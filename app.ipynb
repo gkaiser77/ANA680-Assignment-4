{
 "cells": [
  {
   "cell_type": "code",
   "execution_count": null,
   "id": "b510290a",
   "metadata": {},
   "outputs": [],
   "source": [
    "from flask import Flask, request, render_template\n",
    "import joblib\n",
    "import numpy as np\n",
    "\n",
    "app = Flask(__name__)\n",
    "model = joblib.load('knn_breast_cancer_model.pkl')\n",
    "\n",
    "@app.route('/')\n",
    "def index():\n",
    "    return render_template('index.html')\n",
    "\n",
    "@app.route('/predict', methods=['POST'])\n",
    "def predict():\n",
    "    Clump_thickness   = float(request.form['Clump_thickness'])\n",
    "    Uniformity_of_cell_size   = float(request.form['Uniformity_of_cell_size'])\n",
    "    Uniformity_of_cell_shape   = float(request.form['Uniformity_of_cell_shape'])\n",
    "    Marginal_adhesion     = float(request.form['Marginal_adhesion'])\n",
    "    Single_epithelial_cell_size     = float(request.form['Single_epithelial_cell_size'])\n",
    "    Bare_nuclei     = float(request.form['Bare_nuclei'])\n",
    "    Bland_chromatin     = float(request.form['Bland_chromatin'])\n",
    "    Normal_nucleoli       = float(request.form['Normal_nucleoli'])\n",
    "    Mitoses       = float(request.form['Mitoses'])\n",
    "\n",
    "    features = np.array([[Clump_thickness, Uniformity_of_cell_size, Uniformity_of_cell_shape,Uniformity_of_cell_shape,Marginal_adhesion,\n",
    "                         Single_epithelial_cell_size,Bare_nuclei,Bland_chromatin,Normal_nucleoli,Mitoses]])\n",
    "    prediction = model.predict(features)\n",
    "    return f'Predicted benign (label = 0) or malignant (label = 1) code: {prediction[0]}'\n",
    "\n",
    "if __name__ == '__main__':\n",
    "    app.run(debug=True)"
   ]
  }
 ],
 "metadata": {
  "kernelspec": {
   "display_name": "Python 3 (ipykernel)",
   "language": "python",
   "name": "python3"
  },
  "language_info": {
   "codemirror_mode": {
    "name": "ipython",
    "version": 3
   },
   "file_extension": ".py",
   "mimetype": "text/x-python",
   "name": "python",
   "nbconvert_exporter": "python",
   "pygments_lexer": "ipython3",
   "version": "3.11.5"
  }
 },
 "nbformat": 4,
 "nbformat_minor": 5
}
